{
  "nbformat": 4,
  "nbformat_minor": 0,
  "metadata": {
    "colab": {
      "provenance": []
    },
    "kernelspec": {
      "name": "python3",
      "display_name": "Python 3"
    },
    "language_info": {
      "name": "python"
    }
  },
  "cells": [
    {
      "cell_type": "markdown",
      "source": [
        "#Task 1: Create a Dictionary of Student Marks\n"
      ],
      "metadata": {
        "id": "wvNfBmcO3umD"
      }
    },
    {
      "cell_type": "code",
      "execution_count": 4,
      "metadata": {
        "colab": {
          "base_uri": "https://localhost:8080/"
        },
        "id": "flywa9lh3dUZ",
        "outputId": "dae5e529-4fea-472b-d571-c67e1d4e6263"
      },
      "outputs": [
        {
          "output_type": "stream",
          "name": "stdout",
          "text": [
            "Enter student name: Alice\n",
            "Alice's marks: 95\n"
          ]
        }
      ],
      "source": [
        "marks = {\n",
        "    \"Alice\": 95,\n",
        "    \"Bob\": 88,\n",
        "    \"Charlie\": 76,\n",
        "    \"David\": 90\n",
        "}\n",
        "name = input(\"Enter student name: \")\n",
        "if name in marks:\n",
        "    print(f\"{name}'s marks: {marks[name]}\")\n",
        "else:\n",
        "    print(f\"Student '{name}' not found.\")"
      ]
    },
    {
      "cell_type": "markdown",
      "source": [
        "Task 2: Demonstrate List Slicing"
      ],
      "metadata": {
        "id": "6SWMOIcE4Kza"
      }
    },
    {
      "cell_type": "code",
      "source": [
        "\n",
        "#1. Creates a list of numbers from 1 to 10.\n",
        "numbers = list(range(1, 11))\n",
        "print(\"Original list:\", numbers)\n",
        "\n",
        "#2. Extracts the first five elements from the list.\n",
        "first_five = numbers[:5]\n",
        "print(\"First five elements:\", first_five)\n",
        "\n",
        "#3. Reverses these extracted elements.\n",
        "reversed_first_five = first_five[::-1]\n",
        "\n",
        "#4. Prints both the extracted list and the reversed list\n",
        "print(\"Reversed first five elements:\", reversed_first_five)"
      ],
      "metadata": {
        "colab": {
          "base_uri": "https://localhost:8080/"
        },
        "id": "fff76lan4QKK",
        "outputId": "85b18a6a-88d0-4ffe-db4b-8e821dfbd763"
      },
      "execution_count": 5,
      "outputs": [
        {
          "output_type": "stream",
          "name": "stdout",
          "text": [
            "Original list: [1, 2, 3, 4, 5, 6, 7, 8, 9, 10]\n",
            "First five elements: [1, 2, 3, 4, 5]\n",
            "Reversed first five elements: [5, 4, 3, 2, 1]\n"
          ]
        }
      ]
    }
  ]
}